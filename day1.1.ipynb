{
 "cells": [
  {
   "cell_type": "code",
   "execution_count": 17,
   "metadata": {},
   "outputs": [
    {
     "data": {
      "text/plain": [
       "({'hi', 'po'}, 1, 2)"
      ]
     },
     "execution_count": 17,
     "metadata": {},
     "output_type": "execute_result"
    }
   ],
   "source": [
    "var1 = 1\n",
    "var2 = [1,2,3,4]\n",
    "var3 = 'hi'\n",
    "var4 = [1,2,'hi','po']\n",
    "var5 = (1,2,3,4)\n",
    "var6 = set(['hi','po','hi'])\n",
    "var7 = ['hi','po']\n",
    "\n",
    "my_dict = dict()\n",
    "my_dict['var1'] = var1\n",
    "my_dict['var2'] = var2\n",
    "my_dict['var3'] = var3\n",
    "my_dict['var4'] = var4\n",
    "my_dict['var5'] = var5\n",
    "my_dict['var6'] = var6\n",
    "my_dict['var7'] = var7\n",
    "\n",
    "my_dict['var6'], my_dict['var1'], my_dict['var2'][1]"
   ]
  },
  {
   "cell_type": "code",
   "execution_count": 18,
   "metadata": {},
   "outputs": [
    {
     "data": {
      "text/plain": [
       "3"
      ]
     },
     "execution_count": 18,
     "metadata": {},
     "output_type": "execute_result"
    }
   ],
   "source": [
    "my_dict['var5'][2]"
   ]
  },
  {
   "cell_type": "code",
   "execution_count": null,
   "metadata": {},
   "outputs": [],
   "source": []
  }
 ],
 "metadata": {
  "kernelspec": {
   "display_name": "Python 3",
   "language": "python",
   "name": "python3"
  },
  "language_info": {
   "codemirror_mode": {
    "name": "ipython",
    "version": 3
   },
   "file_extension": ".py",
   "mimetype": "text/x-python",
   "name": "python",
   "nbconvert_exporter": "python",
   "pygments_lexer": "ipython3",
   "version": "3.7.6"
  }
 },
 "nbformat": 4,
 "nbformat_minor": 4
}
