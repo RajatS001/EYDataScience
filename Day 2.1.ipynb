{
 "cells": [
  {
   "cell_type": "code",
   "execution_count": 11,
   "metadata": {},
   "outputs": [
    {
     "data": {
      "text/plain": [
       "{'John': 10000,\n",
       " 'Mary': 12360.0,\n",
       " 'Krishna': 13390.0,\n",
       " 'Namesh': 21645.0,\n",
       " 'Aastha': 11770.0,\n",
       " 'Jason': 20790.0,\n",
       " 'Kavita': 21000.0,\n",
       " 'Ravi': 24205.0,\n",
       " 'Shruti': 20811.5,\n",
       " 'Shubham': 9360.0}"
      ]
     },
     "execution_count": 11,
     "metadata": {},
     "output_type": "execute_result"
    }
   ],
   "source": [
    "employee = ['John', 'Mary', 'Krishna', 'Namesh', 'Aastha', 'Jason', 'Kavita', 'Ravi', 'Shruti', 'Shubham']\n",
    "salaries = (10000, 12000, 13000, 18500, 11000, 19800, 20000, 23500, 19450, 8000)\n",
    "ratings = (2.3, 4.7, 4.3, 9.9, 8.4, 6.1, 6.1, 4.0, 8.8, 9.3)\n",
    "\n",
    "my_dict = dict()\n",
    "for i in range(len(ratings)):\n",
    "    if ratings[i]>=0 and ratings[i]<=3:\n",
    "        my_dict[employee[i]] = salaries[i]\n",
    "    elif ratings[i]>3 and ratings[i]<=5:\n",
    "        my_dict[employee[i]] = ((3*salaries[i])/100) + salaries[i]\n",
    "    elif ratings[i]>5 and ratings[i]<=7:\n",
    "        my_dict[employee[i]] = ((5*salaries[i])/100) + salaries[i]\n",
    "    elif ratings[i]>7 and ratings[i]<=9:\n",
    "        my_dict[employee[i]] = ((7*salaries[i])/100) + salaries[i]\n",
    "    else:\n",
    "        my_dict[employee[i]] = ((7*salaries[i])/100) + salaries[i] + ((10*salaries[i])/100)\n",
    "        \n",
    "my_dict"
   ]
  },
  {
   "cell_type": "code",
   "execution_count": null,
   "metadata": {},
   "outputs": [],
   "source": []
  }
 ],
 "metadata": {
  "kernelspec": {
   "display_name": "Python 3",
   "language": "python",
   "name": "python3"
  },
  "language_info": {
   "codemirror_mode": {
    "name": "ipython",
    "version": 3
   },
   "file_extension": ".py",
   "mimetype": "text/x-python",
   "name": "python",
   "nbconvert_exporter": "python",
   "pygments_lexer": "ipython3",
   "version": "3.7.6"
  }
 },
 "nbformat": 4,
 "nbformat_minor": 4
}
