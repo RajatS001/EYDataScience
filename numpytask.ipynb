{
 "cells": [
  {
   "cell_type": "code",
   "execution_count": 2,
   "metadata": {},
   "outputs": [],
   "source": [
    "import numpy as np"
   ]
  },
  {
   "cell_type": "code",
   "execution_count": 4,
   "metadata": {},
   "outputs": [
    {
     "data": {
      "text/plain": [
       "array([0., 0., 0., 0., 1., 0., 0., 0., 0., 0.])"
      ]
     },
     "execution_count": 4,
     "metadata": {},
     "output_type": "execute_result"
    }
   ],
   "source": [
    "array1 = np.zeros(10)\n",
    "array1[4] = 1\n",
    "array1"
   ]
  },
  {
   "cell_type": "code",
   "execution_count": 6,
   "metadata": {},
   "outputs": [
    {
     "data": {
      "text/plain": [
       "array([10, 11, 12, 13, 14, 15, 16, 17, 18, 19, 20, 21, 22, 23, 24, 25, 26,\n",
       "       27, 28, 29, 30, 31, 32, 33, 34, 35, 36, 37, 38, 39, 40, 41, 42, 43,\n",
       "       44, 45, 46, 47, 48])"
      ]
     },
     "execution_count": 6,
     "metadata": {},
     "output_type": "execute_result"
    }
   ],
   "source": [
    "array2 = np.arange(10,49)\n",
    "array2"
   ]
  },
  {
   "cell_type": "code",
   "execution_count": 12,
   "metadata": {},
   "outputs": [
    {
     "data": {
      "text/plain": [
       "array([3, 2, 1])"
      ]
     },
     "execution_count": 12,
     "metadata": {},
     "output_type": "execute_result"
    }
   ],
   "source": [
    "array3 = np.array([1,2,3])\n",
    "array3[::-1]"
   ]
  },
  {
   "cell_type": "code",
   "execution_count": 15,
   "metadata": {},
   "outputs": [
    {
     "name": "stdout",
     "output_type": "stream",
     "text": [
      "[[0 1 2]\n",
      " [3 4 5]\n",
      " [6 7 8]]\n"
     ]
    }
   ],
   "source": [
    "array4 = np.arange(0,9).reshape(3,3)\n",
    "print(array4)"
   ]
  },
  {
   "cell_type": "code",
   "execution_count": 16,
   "metadata": {},
   "outputs": [
    {
     "data": {
      "text/plain": [
       "[0, 1, 4]"
      ]
     },
     "execution_count": 16,
     "metadata": {},
     "output_type": "execute_result"
    }
   ],
   "source": [
    "array5 = np.array([1,2,0,0,4,0])\n",
    "final = []\n",
    "for i in range(len(array5)):\n",
    "    if array5[i] != 0:\n",
    "        final.append(i)\n",
    "final"
   ]
  },
  {
   "cell_type": "code",
   "execution_count": 21,
   "metadata": {},
   "outputs": [
    {
     "data": {
      "text/plain": [
       "array([[[0.60083785, 0.63907019, 0.44358832],\n",
       "        [0.31956932, 0.93342774, 0.5988847 ],\n",
       "        [0.16144865, 0.81608874, 0.07225446]],\n",
       "\n",
       "       [[0.65791169, 0.3261419 , 0.21125072],\n",
       "        [0.83567377, 0.08093767, 0.07833985],\n",
       "        [0.56390426, 0.8104252 , 0.73315976]],\n",
       "\n",
       "       [[0.02419599, 0.07932278, 0.02556527],\n",
       "        [0.84575899, 0.4869416 , 0.9582719 ],\n",
       "        [0.19908768, 0.36917882, 0.70070532]]])"
      ]
     },
     "execution_count": 21,
     "metadata": {},
     "output_type": "execute_result"
    }
   ],
   "source": [
    "array6 = np.random.random((3,3,3))\n",
    "array6"
   ]
  },
  {
   "cell_type": "code",
   "execution_count": 22,
   "metadata": {},
   "outputs": [
    {
     "data": {
      "text/plain": [
       "array([[0.88842845, 0.62233517, 0.89594517, 0.12181495, 0.37097481,\n",
       "        0.46256192, 0.94156436, 0.38562814, 0.69143055, 0.42304587],\n",
       "       [0.52225164, 0.81077445, 0.40386356, 0.96001417, 0.48619991,\n",
       "        0.99449311, 0.25340803, 0.19997752, 0.688602  , 0.47887159],\n",
       "       [0.45186908, 0.10458744, 0.17548589, 0.64015202, 0.65652141,\n",
       "        0.0722119 , 0.99252711, 0.51213314, 0.7072834 , 0.35641572],\n",
       "       [0.17510078, 0.99596691, 0.75269811, 0.29460293, 0.2715325 ,\n",
       "        0.26547083, 0.2271617 , 0.11475671, 0.01137219, 0.85463911],\n",
       "       [0.57715142, 0.04512169, 0.28662179, 0.15322645, 0.22882278,\n",
       "        0.43725509, 0.56589744, 0.01861464, 0.43323706, 0.29922589],\n",
       "       [0.92530091, 0.54857917, 0.70527052, 0.1828756 , 0.53838682,\n",
       "        0.11492789, 0.32001634, 0.1618513 , 0.1260521 , 0.43553153],\n",
       "       [0.17508646, 0.43750337, 0.89397379, 0.69611519, 0.00329582,\n",
       "        0.16963868, 0.23356845, 0.75082461, 0.80275911, 0.89095721],\n",
       "       [0.73922214, 0.04508902, 0.11492743, 0.85801721, 0.54096834,\n",
       "        0.39864621, 0.75102238, 0.51412394, 0.36047386, 0.28191105],\n",
       "       [0.6213783 , 0.06205894, 0.90848442, 0.25524975, 0.15941664,\n",
       "        0.18318355, 0.48209064, 0.71459037, 0.06978558, 0.62987194],\n",
       "       [0.22175698, 0.54370339, 0.64323   , 0.47506709, 0.84034053,\n",
       "        0.5144823 , 0.11678315, 0.82732638, 0.25292684, 0.41936718]])"
      ]
     },
     "execution_count": 22,
     "metadata": {},
     "output_type": "execute_result"
    }
   ],
   "source": [
    "array7 = np.random.random((10,10))\n",
    "array7"
   ]
  },
  {
   "cell_type": "code",
   "execution_count": 27,
   "metadata": {},
   "outputs": [
    {
     "data": {
      "text/plain": [
       "0.9959669069313278"
      ]
     },
     "execution_count": 27,
     "metadata": {},
     "output_type": "execute_result"
    }
   ],
   "source": [
    "val1 = np.max(array7)\n",
    "val"
   ]
  },
  {
   "cell_type": "code",
   "execution_count": 26,
   "metadata": {},
   "outputs": [
    {
     "data": {
      "text/plain": [
       "0.0032958162988513395"
      ]
     },
     "execution_count": 26,
     "metadata": {},
     "output_type": "execute_result"
    }
   ],
   "source": [
    "val2 = np.min(array7)\n",
    "val2"
   ]
  },
  {
   "cell_type": "code",
   "execution_count": 29,
   "metadata": {},
   "outputs": [
    {
     "data": {
      "text/plain": [
       "array([[1., 1., 1., 1., 1.],\n",
       "       [1., 1., 1., 1., 1.],\n",
       "       [1., 1., 1., 1., 1.],\n",
       "       [1., 1., 1., 1., 1.],\n",
       "       [1., 1., 1., 1., 1.]])"
      ]
     },
     "execution_count": 29,
     "metadata": {},
     "output_type": "execute_result"
    }
   ],
   "source": [
    "array8 = np.ones((5,5))\n",
    "array8"
   ]
  },
  {
   "cell_type": "code",
   "execution_count": 31,
   "metadata": {},
   "outputs": [
    {
     "data": {
      "text/plain": [
       "array([[1., 1., 1., 1., 1.],\n",
       "       [1., 0., 0., 0., 1.],\n",
       "       [1., 0., 0., 0., 1.],\n",
       "       [1., 0., 0., 0., 1.],\n",
       "       [1., 1., 1., 1., 1.]])"
      ]
     },
     "execution_count": 31,
     "metadata": {},
     "output_type": "execute_result"
    }
   ],
   "source": [
    "array8[1:-1,1:-1]=0\n",
    "array8"
   ]
  },
  {
   "cell_type": "code",
   "execution_count": null,
   "metadata": {},
   "outputs": [],
   "source": []
  }
 ],
 "metadata": {
  "kernelspec": {
   "display_name": "Python 3",
   "language": "python",
   "name": "python3"
  },
  "language_info": {
   "codemirror_mode": {
    "name": "ipython",
    "version": 3
   },
   "file_extension": ".py",
   "mimetype": "text/x-python",
   "name": "python",
   "nbconvert_exporter": "python",
   "pygments_lexer": "ipython3",
   "version": "3.7.6"
  }
 },
 "nbformat": 4,
 "nbformat_minor": 4
}
