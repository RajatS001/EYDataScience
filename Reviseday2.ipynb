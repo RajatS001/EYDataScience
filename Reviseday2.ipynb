{
 "cells": [
  {
   "cell_type": "code",
   "execution_count": 9,
   "metadata": {},
   "outputs": [
    {
     "name": "stdout",
     "output_type": "stream",
     "text": [
      "WELCOME\n"
     ]
    },
    {
     "name": "stdin",
     "output_type": "stream",
     "text": [
      "Login? yes or no no\n"
     ]
    },
    {
     "name": "stdout",
     "output_type": "stream",
     "text": [
      "thank\n"
     ]
    }
   ],
   "source": [
    "balance = 0\n",
    "lasttrans = []\n",
    "print(\"WELCOME\")\n",
    "\n",
    "def withdraw(balance,lasttrans):\n",
    "    amo = int(input(\"how much withdraw\"))\n",
    "    if amo > balance:\n",
    "        print(\"nope\")\n",
    "    else:\n",
    "        newbalance = balance - amo\n",
    "        print(\"{} has been withdrawn\".format(amo))\n",
    "        lasttrans.append(amo)\n",
    "        tran(newbalance,lasttrans)\n",
    "        \n",
    "def deposit(balance,lasttrans):\n",
    "    amo = int(input(\"how much deposit\"))\n",
    "    newbalance = balance + amo\n",
    "    print(\"{} has been deposited\".format(amo))\n",
    "    lasttrans.append(amo)\n",
    "    tran(newbalance,lasttrans)\n",
    "    \n",
    "def last5(balance,lasttrans):\n",
    "    print(lasttrans[-5:-1])\n",
    "    print(\"the latest transaction: {}\".format(lasttrans[-1]))\n",
    "    tran(balance,lasttrans)\n",
    "\n",
    "def tran(balance,lasttrans):\n",
    "    print(\"your current balance is {} \".format(balance))\n",
    "    print(\"what would you like to do?\\n\")\n",
    "    cho = int(input(\"1: Withdraw 2:Deposit 3: Check last 5 transaction 4: exit\"))\n",
    "    if cho == 1:\n",
    "        withdraw(balance,lasttrans)\n",
    "    elif cho == 2:\n",
    "        deposit(balance,lasttrans)\n",
    "    elif cho == 3:\n",
    "        last5(balance,lasttrans)\n",
    "    elif cho == 4:\n",
    "        print(\"thank\")\n",
    "    else:\n",
    "        print(\"wrong option\")\n",
    "    \n",
    "logi = str(input(\"Login? yes or no\"))\n",
    "if logi=='yes':\n",
    "    tran(balance,lasttrans)\n",
    "else:\n",
    "    print(\"thank\")"
   ]
  },
  {
   "cell_type": "raw",
   "metadata": {},
   "source": []
  }
 ],
 "metadata": {
  "kernelspec": {
   "display_name": "Python 3",
   "language": "python",
   "name": "python3"
  },
  "language_info": {
   "codemirror_mode": {
    "name": "ipython",
    "version": 3
   },
   "file_extension": ".py",
   "mimetype": "text/x-python",
   "name": "python",
   "nbconvert_exporter": "python",
   "pygments_lexer": "ipython3",
   "version": "3.7.6"
  }
 },
 "nbformat": 4,
 "nbformat_minor": 4
}
